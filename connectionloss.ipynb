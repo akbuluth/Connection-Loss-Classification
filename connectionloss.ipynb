{
 "cells": [
  {
   "cell_type": "code",
   "execution_count": 1,
   "metadata": {},
   "outputs": [
    {
     "data": {
      "text/html": [
       "<div>\n",
       "<style scoped>\n",
       "    .dataframe tbody tr th:only-of-type {\n",
       "        vertical-align: middle;\n",
       "    }\n",
       "\n",
       "    .dataframe tbody tr th {\n",
       "        vertical-align: top;\n",
       "    }\n",
       "\n",
       "    .dataframe thead th {\n",
       "        text-align: right;\n",
       "    }\n",
       "</style>\n",
       "<table border=\"1\" class=\"dataframe\">\n",
       "  <thead>\n",
       "    <tr style=\"text-align: right;\">\n",
       "      <th></th>\n",
       "      <th>Unnamed: 0</th>\n",
       "      <th>TOPLAMSAAT</th>\n",
       "      <th>SORUNSAYISINET</th>\n",
       "      <th>PortErrorCount</th>\n",
       "      <th>LostCarrierCount</th>\n",
       "      <th>GecenAyPortErrorSayisi</th>\n",
       "      <th>GecmisFark</th>\n",
       "      <th>Kopma</th>\n",
       "      <th>Atlak</th>\n",
       "      <th>POSSEHIR</th>\n",
       "      <th>POSSEMT</th>\n",
       "      <th>SANTRALADI</th>\n",
       "      <th>GeneralDate</th>\n",
       "      <th>anonimid</th>\n",
       "    </tr>\n",
       "  </thead>\n",
       "  <tbody>\n",
       "    <tr>\n",
       "      <th>0</th>\n",
       "      <td>0</td>\n",
       "      <td>22</td>\n",
       "      <td>1</td>\n",
       "      <td>0</td>\n",
       "      <td>0</td>\n",
       "      <td>0</td>\n",
       "      <td>0</td>\n",
       "      <td>NaN</td>\n",
       "      <td>NaN</td>\n",
       "      <td>Edi̇rne</td>\n",
       "      <td>ŞÜKRÜPAŞA</td>\n",
       "      <td>EDİRNE-1-54</td>\n",
       "      <td>2020-12-01</td>\n",
       "      <td>14216756</td>\n",
       "    </tr>\n",
       "    <tr>\n",
       "      <th>1</th>\n",
       "      <td>1</td>\n",
       "      <td>22</td>\n",
       "      <td>1</td>\n",
       "      <td>0</td>\n",
       "      <td>0</td>\n",
       "      <td>0</td>\n",
       "      <td>0</td>\n",
       "      <td>NaN</td>\n",
       "      <td>NaN</td>\n",
       "      <td>Edi̇rne</td>\n",
       "      <td>ŞÜKRÜPAŞA</td>\n",
       "      <td>EDİRNE-İSTASYON-54</td>\n",
       "      <td>2020-12-01</td>\n",
       "      <td>14216756</td>\n",
       "    </tr>\n",
       "    <tr>\n",
       "      <th>2</th>\n",
       "      <td>2</td>\n",
       "      <td>46</td>\n",
       "      <td>3</td>\n",
       "      <td>1</td>\n",
       "      <td>0</td>\n",
       "      <td>0</td>\n",
       "      <td>1</td>\n",
       "      <td>NaN</td>\n",
       "      <td>NaN</td>\n",
       "      <td>Edi̇rne</td>\n",
       "      <td>ŞÜKRÜPAŞA</td>\n",
       "      <td>EDİRNE-1-54</td>\n",
       "      <td>2020-12-02</td>\n",
       "      <td>14216756</td>\n",
       "    </tr>\n",
       "    <tr>\n",
       "      <th>3</th>\n",
       "      <td>3</td>\n",
       "      <td>46</td>\n",
       "      <td>3</td>\n",
       "      <td>1</td>\n",
       "      <td>0</td>\n",
       "      <td>0</td>\n",
       "      <td>1</td>\n",
       "      <td>NaN</td>\n",
       "      <td>NaN</td>\n",
       "      <td>Edi̇rne</td>\n",
       "      <td>ŞÜKRÜPAŞA</td>\n",
       "      <td>EDİRNE-İSTASYON-54</td>\n",
       "      <td>2020-12-02</td>\n",
       "      <td>14216756</td>\n",
       "    </tr>\n",
       "    <tr>\n",
       "      <th>4</th>\n",
       "      <td>4</td>\n",
       "      <td>50</td>\n",
       "      <td>3</td>\n",
       "      <td>1</td>\n",
       "      <td>0</td>\n",
       "      <td>0</td>\n",
       "      <td>1</td>\n",
       "      <td>NaN</td>\n",
       "      <td>NaN</td>\n",
       "      <td>Edi̇rne</td>\n",
       "      <td>ŞÜKRÜPAŞA</td>\n",
       "      <td>EDİRNE-1-54</td>\n",
       "      <td>2020-12-03</td>\n",
       "      <td>14216756</td>\n",
       "    </tr>\n",
       "  </tbody>\n",
       "</table>\n",
       "</div>"
      ],
      "text/plain": [
       "   Unnamed: 0  TOPLAMSAAT  SORUNSAYISINET  PortErrorCount  LostCarrierCount  \\\n",
       "0           0          22               1               0                 0   \n",
       "1           1          22               1               0                 0   \n",
       "2           2          46               3               1                 0   \n",
       "3           3          46               3               1                 0   \n",
       "4           4          50               3               1                 0   \n",
       "\n",
       "   GecenAyPortErrorSayisi  GecmisFark Kopma Atlak POSSEHIR    POSSEMT  \\\n",
       "0                       0           0   NaN   NaN  Edi̇rne  ŞÜKRÜPAŞA   \n",
       "1                       0           0   NaN   NaN  Edi̇rne  ŞÜKRÜPAŞA   \n",
       "2                       0           1   NaN   NaN  Edi̇rne  ŞÜKRÜPAŞA   \n",
       "3                       0           1   NaN   NaN  Edi̇rne  ŞÜKRÜPAŞA   \n",
       "4                       0           1   NaN   NaN  Edi̇rne  ŞÜKRÜPAŞA   \n",
       "\n",
       "           SANTRALADI GeneralDate  anonimid  \n",
       "0         EDİRNE-1-54  2020-12-01  14216756  \n",
       "1  EDİRNE-İSTASYON-54  2020-12-01  14216756  \n",
       "2         EDİRNE-1-54  2020-12-02  14216756  \n",
       "3  EDİRNE-İSTASYON-54  2020-12-02  14216756  \n",
       "4         EDİRNE-1-54  2020-12-03  14216756  "
      ]
     },
     "execution_count": 1,
     "metadata": {},
     "output_type": "execute_result"
    }
   ],
   "source": [
    "import pandas as pd\n",
    "\n",
    "data = pd.read_csv('connectionlossdata.csv',low_memory=False)\n",
    "data.head()"
   ]
  },
  {
   "cell_type": "code",
   "execution_count": 2,
   "metadata": {},
   "outputs": [
    {
     "name": "stdout",
     "output_type": "stream",
     "text": [
      "<class 'pandas.core.frame.DataFrame'>\n",
      "RangeIndex: 4835379 entries, 0 to 4835378\n",
      "Data columns (total 14 columns):\n",
      " #   Column                  Dtype \n",
      "---  ------                  ----- \n",
      " 0   Unnamed: 0              int64 \n",
      " 1   TOPLAMSAAT              int64 \n",
      " 2   SORUNSAYISINET          int64 \n",
      " 3   PortErrorCount          int64 \n",
      " 4   LostCarrierCount        int64 \n",
      " 5   GecenAyPortErrorSayisi  int64 \n",
      " 6   GecmisFark              int64 \n",
      " 7   Kopma                   object\n",
      " 8   Atlak                   object\n",
      " 9   POSSEHIR                object\n",
      " 10  POSSEMT                 object\n",
      " 11  SANTRALADI              object\n",
      " 12  GeneralDate             object\n",
      " 13  anonimid                int64 \n",
      "dtypes: int64(8), object(6)\n",
      "memory usage: 516.5+ MB\n"
     ]
    }
   ],
   "source": [
    "data.info()"
   ]
  },
  {
   "cell_type": "code",
   "execution_count": 3,
   "metadata": {},
   "outputs": [
    {
     "name": "stdout",
     "output_type": "stream",
     "text": [
      "Feature 'Kopma' has 3 unique categories\n",
      "Feature 'Atlak' has 2 unique categories\n",
      "Feature 'POSSEHIR' has 212 unique categories\n",
      "Feature 'POSSEMT' has 7550 unique categories\n",
      "Feature 'SANTRALADI' has 5451 unique categories\n",
      "Feature 'GeneralDate' has 13 unique categories\n"
     ]
    }
   ],
   "source": [
    "# decide which categorical variables you want to use in model\n",
    "for col_name in data.columns:\n",
    "    if (data[col_name].dtypes == 'object'):\n",
    "        unique_cat = len(data[col_name].unique())\n",
    "        print(\"Feature '{col_name}' has {unique_cat} unique categories\".format(col_name=col_name, unique_cat=unique_cat))"
   ]
  },
  {
   "cell_type": "code",
   "execution_count": 4,
   "metadata": {},
   "outputs": [],
   "source": [
    "# we can remove the unnecessary features.\n",
    "data = data.drop('Unnamed: 0',1)\n",
    "data = data.drop('anonimid',1)"
   ]
  },
  {
   "cell_type": "code",
   "execution_count": 5,
   "metadata": {},
   "outputs": [
    {
     "name": "stdout",
     "output_type": "stream",
     "text": [
      "<class 'pandas.core.frame.DataFrame'>\n",
      "RangeIndex: 4835379 entries, 0 to 4835378\n",
      "Data columns (total 12 columns):\n",
      " #   Column                  Dtype \n",
      "---  ------                  ----- \n",
      " 0   TOPLAMSAAT              int64 \n",
      " 1   SORUNSAYISINET          int64 \n",
      " 2   PortErrorCount          int64 \n",
      " 3   LostCarrierCount        int64 \n",
      " 4   GecenAyPortErrorSayisi  int64 \n",
      " 5   GecmisFark              int64 \n",
      " 6   Kopma                   object\n",
      " 7   Atlak                   object\n",
      " 8   POSSEHIR                object\n",
      " 9   POSSEMT                 object\n",
      " 10  SANTRALADI              object\n",
      " 11  GeneralDate             object\n",
      "dtypes: int64(6), object(6)\n",
      "memory usage: 442.7+ MB\n"
     ]
    }
   ],
   "source": [
    "data.info()"
   ]
  },
  {
   "cell_type": "code",
   "execution_count": 6,
   "metadata": {},
   "outputs": [
    {
     "data": {
      "text/plain": [
       "İstanbul              813308\n",
       "İstanbul (avrupa)     722512\n",
       "İstanbul (anadolu)    364610\n",
       "Ankara                219765\n",
       "Ankara                128032\n",
       "İzmir                 125185\n",
       "Bursa                 122742\n",
       "İstanbul              112279\n",
       "İzmi̇r                 94605\n",
       "Antalya                84963\n",
       "Name: POSSEHIR, dtype: int64"
      ]
     },
     "execution_count": 6,
     "metadata": {},
     "output_type": "execute_result"
    }
   ],
   "source": [
    "# datadaki illerin dağılımınada bakalım.\n",
    "data['POSSEHIR'].value_counts().sort_values(ascending=False).head(10)"
   ]
  },
  {
   "cell_type": "code",
   "execution_count": 7,
   "metadata": {},
   "outputs": [
    {
     "name": "stdout",
     "output_type": "stream",
     "text": [
      "212\n",
      "['Edi̇rne' 'İstanbul (anadolu)' 'İzmir' 'Antalya' 'İstanbul (avrupa)'\n",
      " 'Samsun' 'Aydin' 'Ankara' 'İstanbul ' 'Manisa' 'Trabzon' 'Sivas' 'Si̇vas'\n",
      " 'İstanbul' 'Hatay' 'Aydın' 'Adana' 'The netherlands' 'Mani̇sa'\n",
      " 'Gaziantep' 'Kocaeli' 'Bursa' 'Konya' 'Mersi̇n' 'Bolu' 'Kars' 'Mersin'\n",
      " 'Kırklareli' 'Denizli' 'Muğla' 'İzmi̇r' 'Antalya ' 'Tekirdağ' 'Kayseri'\n",
      " 'Uşak' 'Nevşehir' 'Kayseri̇' 'Balıkesir' 'Nevşehi̇r' 'Burdur' 'Erzurum'\n",
      " 'Eskişehir' 'Afyon' 'Zonguldak' 'Kastamonu' 'Malatya' 'Kahramanmaraş'\n",
      " 'Mardi̇n' 'Edirne' 'Ankara ' 'Isparta' 'Kocaeli̇ ' 'Çanakkale' 'Sinop'\n",
      " 'Diyarbakır' 'Kocaeli̇' 'Şırnak' 'Düzce' 'Yozgat' 'Yalova' 'Balikesi̇r'\n",
      " 'Ağri' 'Kütahya' 'Düzce ' 'Teki̇rdağ' 'İzmi̇r ' 'Ordu' 'Çankiri ' 'Rize'\n",
      " 'Sakarya' 'Giresun' 'Çankırı' 'Ri̇ze' 'Bartın' 'Trabzon ' 'Erzurum '\n",
      " 'Eski̇şehi̇r' 'Erzincan' 'Bi̇leci̇k' 'Elazığ' 'Şanlıurfa' 'Isparta '\n",
      " 'Osmaniye' 'Karaman' 'Bursa ' 'Karabük' 'Kirklareli̇' 'Eski̇şehi̇r '\n",
      " 'Bilecik' 'Adıyaman' 'Çorum' 'Tokat' 'Muğla ' 'Bayburt' 'Amasya'\n",
      " 'Deni̇zli̇' 'Adiyaman' 'Tunceli' 'Si̇nop ' 'Gümüşhane' 'Kırşehir'\n",
      " 'Mani̇sa ' 'Niğde' 'Gazi̇antep' 'Artvin' 'Mersi̇n ' 'Mardin' 'Aksaray '\n",
      " 'Batman' 'Muş' 'Gi̇resun' 'Sakarya ' 'Ordu ' 'Aksaray' 'Tokat '\n",
      " 'Erzi̇ncan' 'Karabük ' 'Gi̇resun ' 'Gazi̇antep ' 'Kilis' 'Bartin' 'Van'\n",
      " 'Kayseri̇ ' 'Zonguldak ' 'Kırıkkale' 'Adiyaman ' 'Osmani̇ye ' 'Artvi̇n '\n",
      " 'Deni̇zli̇ ' 'Tunceli̇ ' 'Çorum ' 'Di̇yarbakir' 'Si̇nop' 'Konya '\n",
      " 'Adana ' 'Edi̇rne ' 'Kirşehi̇r ' 'Burdur ' 'Kahramanmaraş ' 'Siirt'\n",
      " 'Bitlis' 'Yozgat ' 'Hatay ' 'Bartin ' 'Si̇vas ' 'Ni̇ğde ' 'Çanakkale '\n",
      " 'Ağrı' 'Samsun ' 'Malatya ' 'Teki̇rdağ ' 'Balikesi̇r ' 'Şanliurfa'\n",
      " 'Afyonkarahi̇sar ' 'Yalova ' 'Şanliurfa ' 'Bi̇leci̇k ' 'Amasya '\n",
      " 'Osmani̇ye' 'Aydin ' 'Kütahya ' 'Elaziğ ' 'Kirklareli̇ ' 'Kars '\n",
      " 'Batman ' 'Ki̇li̇s ' 'Bolu ' 'Kirikkale ' 'Nevşehi̇r ' 'Bi̇tli̇s' 'Uşak '\n",
      " 'Kirşehi̇r' 'Di̇yarbakir ' 'Van ' 'Kastamonu ' 'Ni̇ğde' 'Ri̇ze '\n",
      " 'Hakkari̇ ' 'Erzi̇ncan ' 'Bi̇tli̇s ' 'Mardi̇n ' 'Karaman ' 'Si̇i̇rt '\n",
      " 'Elaziğ' 'Hakkari' 'Bi̇ngöl' 'Bingöl' 'Iğdır' 'Çankiri' 'Gümüşhane '\n",
      " 'Artvi̇n' 'Usa' 'Si̇i̇rt' 'Ardahan' 'Afyonkarahi̇sar' 'Bi̇ngöl ' 'Muş '\n",
      " 'Şirnak' 'Ardahan ' 'Iğdir ' 'Ağri ' 'Şirnak ' 'Ki̇li̇s' 'Hakkari̇'\n",
      " 'Tunceli̇' 'Bayburt ' 'Kirikkale' 'Spain' 'Belirsiz' 'Istanbul' 'Iğdir'\n",
      " 'Amsterdam']\n"
     ]
    }
   ],
   "source": [
    "print(len(data['POSSEHIR'].unique()))\n",
    "print(data['POSSEHIR'].unique())"
   ]
  },
  {
   "cell_type": "code",
   "execution_count": 40,
   "metadata": {},
   "outputs": [],
   "source": [
    "# correction of city names\n",
    "data['POSSEHIR'] = data['POSSEHIR'].replace(['İstanbul (anadolu)','İstanbul (avrupa)','İstanbul ','Istanbul'],'İstanbul')\n",
    "data['POSSEHIR'] = data['POSSEHIR'].replace(['Ankara '],'Ankara')\n",
    "data['POSSEHIR'] = data['POSSEHIR'].replace(['İzmi̇r ','İzmi̇r'],'İzmir')\n",
    "data['POSSEHIR'] = data['POSSEHIR'].replace(['Bursa '],'Bursa')\n",
    "data['POSSEHIR'] = data['POSSEHIR'].replace(['Si̇vas ','Si̇vas'],'Sivas')\n",
    "data['POSSEHIR'] = data['POSSEHIR'].replace(['Antalya '],'Antalya')\n",
    "data['POSSEHIR'] = data['POSSEHIR'].replace(['Kocaeli̇ '],'Kocaeli')\n",
    "data['POSSEHIR'] = data['POSSEHIR'].replace(['Sakarya '],'Sakarya')\n",
    "data['POSSEHIR'] = data['POSSEHIR'].replace(['Konya '],'Konya')\n",
    "data['POSSEHIR'] = data['POSSEHIR'].replace(['Muğla '],'Muğla')\n",
    "data['POSSEHIR'] = data['POSSEHIR'].replace(['Adana '],'Adana')\n",
    "data['POSSEHIR'] = data['POSSEHIR'].replace(['Balıkesir ','Balikesi̇r','Balikesi̇r '],'Balıkesir')\n",
    "data['POSSEHIR'] = data['POSSEHIR'].replace(['Teki̇rdağ','Teki̇rdağ '],'Tekirdağ')\n",
    "data['POSSEHIR'] = data['POSSEHIR'].replace(['Mani̇sa','Mani̇sa '],'Manisa')\n",
    "data['POSSEHIR'] = data['POSSEHIR'].replace(['Çanakkale '],'Çanakkale')\n",
    "data['POSSEHIR'] = data['POSSEHIR'].replace(['Hatay '],'Hatay')\n",
    "data['POSSEHIR'] = data['POSSEHIR'].replace(['Mersin','Mersi̇n '],'Mersi̇n')\n",
    "data['POSSEHIR'] = data['POSSEHIR'].replace(['Eski̇şehi̇r','Eski̇şehi̇r '],'Eskişehir')\n",
    "data['POSSEHIR'] = data['POSSEHIR'].replace(['Deni̇zli̇ ','Deni̇zli̇'],'Denizli')\n",
    "data['POSSEHIR'] = data['POSSEHIR'].replace(['Aydin','Aydin '],'Aydın')\n",
    "data['POSSEHIR'] = data['POSSEHIR'].replace(['Edirne','Edi̇rne '],'Edi̇rne')\n",
    "data['POSSEHIR'] = data['POSSEHIR'].replace(['Bolu '],'Bolu')\n",
    "data['POSSEHIR'] = data['POSSEHIR'].replace(['Kars '],'Kars')\n",
    "data['POSSEHIR'] = data['POSSEHIR'].replace(['Kirklareli̇','Kirklareli̇ '],'Kırklareli')\n",
    "data['POSSEHIR'] = data['POSSEHIR'].replace(['Kayseri̇ ','Kayseri̇'],'Kayseri')\n",
    "data['POSSEHIR'] = data['POSSEHIR'].replace(['Ordu '],'Ordu')\n",
    "data['POSSEHIR'] = data['POSSEHIR'].replace(['Ağri ','Ağri'],'Ağrı')\n",
    "data['POSSEHIR'] = data['POSSEHIR'].replace(['Iğdir','Iğdir '],'Iğdır')\n",
    "data['POSSEHIR'] = data['POSSEHIR'].replace(['Bayburt '],'Bayburt')\n",
    "data['POSSEHIR'] = data['POSSEHIR'].replace(['Şirnak ','Şirnak'],'Şırnak')\n",
    "data['POSSEHIR'] = data['POSSEHIR'].replace(['Kirikkale','Kirikkale '],'Kırıkkale')\n",
    "data['POSSEHIR'] = data['POSSEHIR'].replace(['Çankiri ','Çankiri'],'Çankırı')\n",
    "data['POSSEHIR'] = data['POSSEHIR'].replace(['Gümüşhane '],'Gümüşhane')\n",
    "data['POSSEHIR'] = data['POSSEHIR'].replace(['Bi̇ngöl ','Bingöl'],'Bi̇ngöl')\n",
    "data['POSSEHIR'] = data['POSSEHIR'].replace(['Ardahan '],'Ardahan')\n",
    "data['POSSEHIR'] = data['POSSEHIR'].replace(['Muş '],'Muş')\n",
    "data['POSSEHIR'] = data['POSSEHIR'].replace(['Si̇i̇rt ','Si̇i̇rt'],'Siirt')\n",
    "data['POSSEHIR'] = data['POSSEHIR'].replace(['Karaman '],'Karaman')\n",
    "data['POSSEHIR'] = data['POSSEHIR'].replace(['Mardi̇n ','Mardin'],'Mardi̇n')\n",
    "data['POSSEHIR'] = data['POSSEHIR'].replace(['Bi̇tli̇s ','Bi̇tli̇s'],'Bitlis')\n",
    "data['POSSEHIR'] = data['POSSEHIR'].replace(['Erzi̇ncan ','Erzi̇ncan'],'Erzincan')\n",
    "data['POSSEHIR'] = data['POSSEHIR'].replace(['Hakkari̇ ','Hakkari'],'Hakkari')\n",
    "data['POSSEHIR'] = data['POSSEHIR'].replace(['Ri̇ze ','Ri̇ze'],'Rize')\n",
    "data['POSSEHIR'] = data['POSSEHIR'].replace(['Kastamonu '],'Kastamonu')\n",
    "data['POSSEHIR'] = data['POSSEHIR'].replace(['Di̇yarbakir ','Di̇yarbakir'],'Diyarbakır')\n",
    "data['POSSEHIR'] = data['POSSEHIR'].replace(['Düzce '],'Düzce')\n",
    "data['POSSEHIR'] = data['POSSEHIR'].replace(['Trabzon '],'Trabzon')\n",
    "data['POSSEHIR'] = data['POSSEHIR'].replace(['Van '],'Van')\n",
    "data['POSSEHIR'] = data['POSSEHIR'].replace(['Uşak '],'Uşak')\n",
    "data['POSSEHIR'] = data['POSSEHIR'].replace(['Nevşehi̇r ','Nevşehi̇r'],'Nevşehir')\n",
    "data['POSSEHIR'] = data['POSSEHIR'].replace(['Ki̇li̇s ','Ki̇li̇s'],'Kilis')\n",
    "data['POSSEHIR'] = data['POSSEHIR'].replace(['Batman '],'Batman')\n",
    "data['POSSEHIR'] = data['POSSEHIR'].replace(['Elaziğ ','Elaziğ'],'Elazığ')\n",
    "data['POSSEHIR'] = data['POSSEHIR'].replace(['Kütahya '],'Kütahya')\n",
    "data['POSSEHIR'] = data['POSSEHIR'].replace(['Amasya '],'Amasya')\n",
    "data['POSSEHIR'] = data['POSSEHIR'].replace(['Bi̇leci̇k ','Bilecik'],'Bi̇leci̇k')\n",
    "data['POSSEHIR'] = data['POSSEHIR'].replace(['Şanliurfa ','Şanliurfa'],'Şanlıurfa')\n",
    "data['POSSEHIR'] = data['POSSEHIR'].replace(['Yalova '],'Yalova')\n",
    "data['POSSEHIR'] = data['POSSEHIR'].replace(['Samsun '],'Samsun')\n",
    "data['POSSEHIR'] = data['POSSEHIR'].replace(['Afyonkarahi̇sar ','Afyon'],'Afyonkarahi̇sar')\n",
    "data['POSSEHIR'] = data['POSSEHIR'].replace(['Malatya '],'Malatya')\n",
    "data['POSSEHIR'] = data['POSSEHIR'].replace(['Ni̇ğde ','Ni̇ğde'],'Niğde')\n",
    "data['POSSEHIR'] = data['POSSEHIR'].replace(['Bartin ','Bartin'],'Bartın')\n",
    "data['POSSEHIR'] = data['POSSEHIR'].replace(['Yozgat '],'Yozgat')\n",
    "data['POSSEHIR'] = data['POSSEHIR'].replace(['Kahramanmaraş '],'Kahramanmaraş')\n",
    "data['POSSEHIR'] = data['POSSEHIR'].replace(['Burdur '],'Burdur')\n",
    "data['POSSEHIR'] = data['POSSEHIR'].replace(['Kirşehi̇r ','Kirşehi̇r'],'Kırşehir')\n",
    "data['POSSEHIR'] = data['POSSEHIR'].replace(['Çorum '],'Çorum')\n",
    "data['POSSEHIR'] = data['POSSEHIR'].replace(['Tunceli̇ '],'Tunceli')\n",
    "data['POSSEHIR'] = data['POSSEHIR'].replace(['Artvi̇n ','Artvi̇n'],'Artvin')\n",
    "data['POSSEHIR'] = data['POSSEHIR'].replace(['Osmani̇ye ','Osmani̇ye'],'Osmaniye')\n",
    "data['POSSEHIR'] = data['POSSEHIR'].replace(['Adiyaman','Adiyaman '],'Adıyaman')\n",
    "data['POSSEHIR'] = data['POSSEHIR'].replace(['Zonguldak '],'Zonguldak')\n",
    "data['POSSEHIR'] = data['POSSEHIR'].replace(['Gazi̇antep ','Gazi̇antep'],'Gaziantep')\n",
    "data['POSSEHIR'] = data['POSSEHIR'].replace(['Gi̇resun ','Gi̇resun'],'Giresun')\n",
    "data['POSSEHIR'] = data['POSSEHIR'].replace(['Karabük '],'Karabük')\n",
    "data['POSSEHIR'] = data['POSSEHIR'].replace(['Tokat '],'Tokat')\n",
    "data['POSSEHIR'] = data['POSSEHIR'].replace(['Aksaray '],'Aksaray')\n",
    "data['POSSEHIR'] = data['POSSEHIR'].replace(['Si̇nop ','Si̇nop'],'Sinop')\n",
    "data['POSSEHIR'] = data['POSSEHIR'].replace(['Isparta '],'Isparta')\n",
    "data['POSSEHIR'] = data['POSSEHIR'].replace(['Erzurum '],'Erzurum')"
   ]
  },
  {
   "cell_type": "code",
   "execution_count": 41,
   "metadata": {},
   "outputs": [
    {
     "name": "stdout",
     "output_type": "stream",
     "text": [
      "89\n",
      "['Edi̇rne' 'İstanbul' 'İzmir' 'Antalya' 'Samsun' 'Aydın' 'Ankara' 'Manisa'\n",
      " 'Trabzon' 'Sivas' 'Hatay' 'Adana' 'The netherlands' 'Gaziantep' 'Kocaeli'\n",
      " 'Bursa' 'Konya' 'Mersi̇n' 'Bolu' 'Kars' 'Kırklareli' 'Denizli' 'Muğla'\n",
      " 'Tekirdağ' 'Kayseri' 'Uşak' 'Nevşehir' 'Balıkesir' 'Burdur' 'Erzurum'\n",
      " 'Eskişehir' 'Afyonkarahi̇sar' 'Zonguldak' 'Kastamonu' 'Malatya'\n",
      " 'Kahramanmaraş' 'Mardi̇n' 'Isparta' 'Çanakkale' 'Sinop' 'Diyarbakır'\n",
      " 'Kocaeli̇' 'Şırnak' 'Düzce' 'Yozgat' 'Yalova' 'Ağrı' 'Kütahya' 'Ordu'\n",
      " 'Çankırı' 'Rize' 'Sakarya' 'Giresun' 'Bartın' 'Erzincan' 'Bi̇leci̇k'\n",
      " 'Elazığ' 'Şanlıurfa' 'Osmaniye' 'Karaman' 'Karabük' 'Adıyaman' 'Çorum'\n",
      " 'Tokat' 'Bayburt' 'Amasya' 'Tunceli' 'Gümüşhane' 'Kırşehir' 'Niğde'\n",
      " 'Artvin' 'Aksaray' 'Batman' 'Muş' 'Kilis' 'Van' 'Kırıkkale' 'Siirt'\n",
      " 'Bitlis' 'Hakkari' 'Bi̇ngöl' 'Iğdır' 'Usa' 'Ardahan' 'Hakkari̇'\n",
      " 'Tunceli̇' 'Spain' 'Belirsiz' 'Amsterdam']\n"
     ]
    }
   ],
   "source": [
    "print(len(data['POSSEHIR'].unique()))\n",
    "print(data['POSSEHIR'].unique())"
   ]
  },
  {
   "cell_type": "code",
   "execution_count": 10,
   "metadata": {},
   "outputs": [
    {
     "data": {
      "text/plain": [
       "0    Edi̇rne\n",
       "1    Edi̇rne\n",
       "2    Edi̇rne\n",
       "3    Edi̇rne\n",
       "4    Edi̇rne\n",
       "Name: POSSEHIR, dtype: object"
      ]
     },
     "execution_count": 10,
     "metadata": {},
     "output_type": "execute_result"
    }
   ],
   "source": [
    "# datadaki illerin dağılımınada bakalım.\n",
    "data['POSSEHIR'].head()"
   ]
  },
  {
   "cell_type": "code",
   "execution_count": 49,
   "metadata": {},
   "outputs": [],
   "source": [
    "data['POSSEHIR'] = data['POSSEHIR'].replace(['Adana','Antalya','Burdur','Hatay','Isparta','Mersi̇n','Osmaniye','Kahramanmaraş','Karaman','Afyonkarahisar','Denizli','Gaziantep','Niğde'],'AkdenizBolgesi')\n",
    "data['POSSEHIR'] = data['POSSEHIR'].replace(['Ağrı','Ardahan','Bitlis','Bi̇ngöl','Elazığ','Erzincan','Erzurum','Hakkari','Iğdır','Kars','Malatya','Muş','Tunceli','Van','Gaziantep','Diyarbakır','Şanlıurfa','Batman','Adıyaman','Siirt','Mardi̇n','Kilis','Şırnak'],'DoguBolgesi')\n",
    "data['POSSEHIR'] = data['POSSEHIR'].replace(['Manisa','Aydın','Denizli','Muğla','Afyonkarahi̇sar','Kütahya','Uşak'],'EgeBolgesi')\n",
    "data['POSSEHIR'] = data['POSSEHIR'].replace(['Konya','Kayseri','Eskişehir','Sivas','Kırıkkale','Aksaray','Karaman','Kırşehir','Niğde','Nevşehir','Yozgat','Çankırı'],'icanadoluBolgesi')\n",
    "data['POSSEHIR'] = data['POSSEHIR'].replace(['Edi̇rne','Kırklareli','Tekirdağ','Çanakkale','Kocaeli','Yalova','Sakarya','Bi̇leci̇k','Balıkesir'],'MarmaraBolgesi')\n",
    "data['POSSEHIR'] = data['POSSEHIR'].replace(['Karabük','Amasya','Artvin','Bartın','Bayburt','Bolu','Gümüşhane','Samsun','Trabzon','Sinop','Zonguldak','Tokat','Rize','Ordu','Çorum','Kastamonu','Giresun','Düzce'],'KaradenizBolgesi')"
   ]
  },
  {
   "cell_type": "code",
   "execution_count": 46,
   "metadata": {},
   "outputs": [],
   "source": [
    "data = data[data.POSSEHIR != 'The netherlands']\n",
    "data = data[data.POSSEHIR != 'Usa']\n",
    "data = data[data.POSSEHIR != 'Spain']\n",
    "data = data[data.POSSEHIR != 'Belirsiz']\n",
    "data = data[data.POSSEHIR != 'Amsterdam']"
   ]
  },
  {
   "cell_type": "code",
   "execution_count": 50,
   "metadata": {},
   "outputs": [
    {
     "name": "stdout",
     "output_type": "stream",
     "text": [
      "10\n",
      "['MarmaraBolgesi' 'İstanbul' 'İzmir' 'AkdenizBolgesi' 'KaradenizBolgesi'\n",
      " 'EgeBolgesi' 'Ankara' 'icanadoluBolgesi' 'Bursa' 'DoguBolgesi']\n"
     ]
    }
   ],
   "source": [
    "print(len(data['POSSEHIR'].unique()))\n",
    "print(data['POSSEHIR'].unique())"
   ]
  },
  {
   "cell_type": "code",
   "execution_count": 11,
   "metadata": {},
   "outputs": [
    {
     "name": "stdout",
     "output_type": "stream",
     "text": [
      "Atlak Bağlantı Sorunu    2\n",
      "Name: Atlak, dtype: int64\n"
     ]
    }
   ],
   "source": [
    "data['Atlak'].unique()\n",
    "print(data['Atlak'].value_counts())"
   ]
  },
  {
   "cell_type": "code",
   "execution_count": 12,
   "metadata": {},
   "outputs": [],
   "source": [
    "# Also 'POSSEMT', 'SANTRALADI' features has too many unique categories. We can remove them.\n",
    "data = data.drop('POSSEMT',1)\n",
    "data = data.drop('SANTRALADI',1)"
   ]
  },
  {
   "cell_type": "code",
   "execution_count": 13,
   "metadata": {},
   "outputs": [
    {
     "name": "stdout",
     "output_type": "stream",
     "text": [
      "<class 'pandas.core.frame.DataFrame'>\n",
      "RangeIndex: 4835379 entries, 0 to 4835378\n",
      "Data columns (total 10 columns):\n",
      " #   Column                  Dtype \n",
      "---  ------                  ----- \n",
      " 0   TOPLAMSAAT              int64 \n",
      " 1   SORUNSAYISINET          int64 \n",
      " 2   PortErrorCount          int64 \n",
      " 3   LostCarrierCount        int64 \n",
      " 4   GecenAyPortErrorSayisi  int64 \n",
      " 5   GecmisFark              int64 \n",
      " 6   Kopma                   object\n",
      " 7   Atlak                   object\n",
      " 8   POSSEHIR                object\n",
      " 9   GeneralDate             object\n",
      "dtypes: int64(6), object(4)\n",
      "memory usage: 368.9+ MB\n"
     ]
    }
   ],
   "source": [
    "data.info()"
   ]
  },
  {
   "cell_type": "code",
   "execution_count": 14,
   "metadata": {},
   "outputs": [
    {
     "data": {
      "text/plain": [
       "array([nan, 'Sık Sık Kopuyor', 'İnternete Erişemiyor'], dtype=object)"
      ]
     },
     "execution_count": 14,
     "metadata": {},
     "output_type": "execute_result"
    }
   ],
   "source": [
    "data['Kopma'].unique()"
   ]
  },
  {
   "cell_type": "code",
   "execution_count": 15,
   "metadata": {},
   "outputs": [
    {
     "data": {
      "text/html": [
       "<div>\n",
       "<style scoped>\n",
       "    .dataframe tbody tr th:only-of-type {\n",
       "        vertical-align: middle;\n",
       "    }\n",
       "\n",
       "    .dataframe tbody tr th {\n",
       "        vertical-align: top;\n",
       "    }\n",
       "\n",
       "    .dataframe thead th {\n",
       "        text-align: right;\n",
       "    }\n",
       "</style>\n",
       "<table border=\"1\" class=\"dataframe\">\n",
       "  <thead>\n",
       "    <tr style=\"text-align: right;\">\n",
       "      <th></th>\n",
       "      <th>TOPLAMSAAT</th>\n",
       "      <th>SORUNSAYISINET</th>\n",
       "      <th>PortErrorCount</th>\n",
       "      <th>LostCarrierCount</th>\n",
       "      <th>GecenAyPortErrorSayisi</th>\n",
       "      <th>GecmisFark</th>\n",
       "      <th>Kopma</th>\n",
       "      <th>Atlak</th>\n",
       "      <th>POSSEHIR</th>\n",
       "      <th>GeneralDate</th>\n",
       "    </tr>\n",
       "  </thead>\n",
       "  <tbody>\n",
       "    <tr>\n",
       "      <th>0</th>\n",
       "      <td>22</td>\n",
       "      <td>1</td>\n",
       "      <td>0</td>\n",
       "      <td>0</td>\n",
       "      <td>0</td>\n",
       "      <td>0</td>\n",
       "      <td>NaN</td>\n",
       "      <td>NaN</td>\n",
       "      <td>Edi̇rne</td>\n",
       "      <td>2020-12-01</td>\n",
       "    </tr>\n",
       "    <tr>\n",
       "      <th>1</th>\n",
       "      <td>22</td>\n",
       "      <td>1</td>\n",
       "      <td>0</td>\n",
       "      <td>0</td>\n",
       "      <td>0</td>\n",
       "      <td>0</td>\n",
       "      <td>NaN</td>\n",
       "      <td>NaN</td>\n",
       "      <td>Edi̇rne</td>\n",
       "      <td>2020-12-01</td>\n",
       "    </tr>\n",
       "    <tr>\n",
       "      <th>2</th>\n",
       "      <td>46</td>\n",
       "      <td>3</td>\n",
       "      <td>1</td>\n",
       "      <td>0</td>\n",
       "      <td>0</td>\n",
       "      <td>1</td>\n",
       "      <td>NaN</td>\n",
       "      <td>NaN</td>\n",
       "      <td>Edi̇rne</td>\n",
       "      <td>2020-12-02</td>\n",
       "    </tr>\n",
       "    <tr>\n",
       "      <th>3</th>\n",
       "      <td>46</td>\n",
       "      <td>3</td>\n",
       "      <td>1</td>\n",
       "      <td>0</td>\n",
       "      <td>0</td>\n",
       "      <td>1</td>\n",
       "      <td>NaN</td>\n",
       "      <td>NaN</td>\n",
       "      <td>Edi̇rne</td>\n",
       "      <td>2020-12-02</td>\n",
       "    </tr>\n",
       "    <tr>\n",
       "      <th>4</th>\n",
       "      <td>50</td>\n",
       "      <td>3</td>\n",
       "      <td>1</td>\n",
       "      <td>0</td>\n",
       "      <td>0</td>\n",
       "      <td>1</td>\n",
       "      <td>NaN</td>\n",
       "      <td>NaN</td>\n",
       "      <td>Edi̇rne</td>\n",
       "      <td>2020-12-03</td>\n",
       "    </tr>\n",
       "  </tbody>\n",
       "</table>\n",
       "</div>"
      ],
      "text/plain": [
       "   TOPLAMSAAT  SORUNSAYISINET  PortErrorCount  LostCarrierCount  \\\n",
       "0          22               1               0                 0   \n",
       "1          22               1               0                 0   \n",
       "2          46               3               1                 0   \n",
       "3          46               3               1                 0   \n",
       "4          50               3               1                 0   \n",
       "\n",
       "   GecenAyPortErrorSayisi  GecmisFark Kopma Atlak POSSEHIR GeneralDate  \n",
       "0                       0           0   NaN   NaN  Edi̇rne  2020-12-01  \n",
       "1                       0           0   NaN   NaN  Edi̇rne  2020-12-01  \n",
       "2                       0           1   NaN   NaN  Edi̇rne  2020-12-02  \n",
       "3                       0           1   NaN   NaN  Edi̇rne  2020-12-02  \n",
       "4                       0           1   NaN   NaN  Edi̇rne  2020-12-03  "
      ]
     },
     "execution_count": 15,
     "metadata": {},
     "output_type": "execute_result"
    }
   ],
   "source": [
    "data.head()"
   ]
  },
  {
   "cell_type": "code",
   "execution_count": 16,
   "metadata": {},
   "outputs": [
    {
     "name": "stdout",
     "output_type": "stream",
     "text": [
      "Feature 'TOPLAMSAAT' has 345 unique categories\n",
      "Feature 'SORUNSAYISINET' has 795 unique categories\n",
      "Feature 'PortErrorCount' has 335 unique categories\n",
      "Feature 'LostCarrierCount' has 475 unique categories\n",
      "Feature 'GecenAyPortErrorSayisi' has 49 unique categories\n",
      "Feature 'GecmisFark' has 337 unique categories\n",
      "Feature 'Kopma' has 3 unique categories\n",
      "Feature 'Atlak' has 2 unique categories\n",
      "Feature 'POSSEHIR' has 90 unique categories\n",
      "Feature 'GeneralDate' has 13 unique categories\n"
     ]
    }
   ],
   "source": [
    "for col_name in data.columns:\n",
    "    unique_cat = len(data[col_name].unique())\n",
    "    print(\"Feature '{col_name}' has {unique_cat} unique categories\".format(col_name=col_name, unique_cat=unique_cat))"
   ]
  },
  {
   "cell_type": "code",
   "execution_count": 17,
   "metadata": {},
   "outputs": [
    {
     "name": "stdout",
     "output_type": "stream",
     "text": [
      "Sık Sık Kopuyor         932\n",
      "İnternete Erişemiyor    725\n",
      "Name: Kopma, dtype: int64\n",
      "[nan 'Sık Sık Kopuyor' 'İnternete Erişemiyor']\n"
     ]
    }
   ],
   "source": [
    "print(data['Kopma'].value_counts())\n",
    "print(data['Kopma'].unique())"
   ]
  },
  {
   "cell_type": "code",
   "execution_count": 18,
   "metadata": {},
   "outputs": [],
   "source": [
    "# encoding for 'Kopma' feature\n",
    "data['Kopma'] = [1 if (x == 'Sık Sık Kopuyor' or x == 'İnternete Erişemiyor') else 0 for x in data['Kopma']]\n"
   ]
  },
  {
   "cell_type": "code",
   "execution_count": 19,
   "metadata": {},
   "outputs": [
    {
     "name": "stdout",
     "output_type": "stream",
     "text": [
      "0    4833722\n",
      "1       1657\n",
      "Name: Kopma, dtype: int64\n",
      "[0 1]\n"
     ]
    }
   ],
   "source": [
    "print(data['Kopma'].value_counts())\n",
    "print(data['Kopma'].unique())"
   ]
  },
  {
   "cell_type": "code",
   "execution_count": 51,
   "metadata": {},
   "outputs": [],
   "source": [
    "X = data.drop('Kopma',1)\n",
    "Y = data.Kopma"
   ]
  },
  {
   "cell_type": "code",
   "execution_count": 52,
   "metadata": {},
   "outputs": [
    {
     "data": {
      "text/plain": [
       "Atlak                     4834454\n",
       "GeneralDate                     0\n",
       "POSSEHIR                        0\n",
       "GecmisFark                      0\n",
       "GecenAyPortErrorSayisi          0\n",
       "dtype: int64"
      ]
     },
     "execution_count": 52,
     "metadata": {},
     "output_type": "execute_result"
    }
   ],
   "source": [
    "# handling the missing data\n",
    "X.isnull().sum().sort_values(ascending=False).head()"
   ]
  },
  {
   "cell_type": "code",
   "execution_count": 53,
   "metadata": {},
   "outputs": [
    {
     "name": "stdout",
     "output_type": "stream",
     "text": [
      "0    4834454\n",
      "1          2\n",
      "Name: Atlak, dtype: int64\n"
     ]
    }
   ],
   "source": [
    "X['Atlak'] = [1 if i == 'Atlak Bağlantı Sorunu' else 0 for i in X['Atlak']]\n",
    "print(X['Atlak'].value_counts())"
   ]
  },
  {
   "cell_type": "code",
   "execution_count": 54,
   "metadata": {},
   "outputs": [],
   "source": [
    "# 'Atlak' feature has 2 samples for 'Atlak Bağlantı Sorunu' value, and all other values are null, so we can remove the this feature.\n",
    "x = X.drop('Atlak',1)"
   ]
  },
  {
   "cell_type": "code",
   "execution_count": 55,
   "metadata": {},
   "outputs": [
    {
     "name": "stdout",
     "output_type": "stream",
     "text": [
      "<class 'pandas.core.frame.DataFrame'>\n",
      "Int64Index: 4834456 entries, 0 to 4835378\n",
      "Data columns (total 8 columns):\n",
      " #   Column                  Dtype \n",
      "---  ------                  ----- \n",
      " 0   TOPLAMSAAT              int64 \n",
      " 1   SORUNSAYISINET          int64 \n",
      " 2   PortErrorCount          int64 \n",
      " 3   LostCarrierCount        int64 \n",
      " 4   GecenAyPortErrorSayisi  int64 \n",
      " 5   GecmisFark              int64 \n",
      " 6   POSSEHIR                object\n",
      " 7   GeneralDate             object\n",
      "dtypes: int64(6), object(2)\n",
      "memory usage: 332.0+ MB\n"
     ]
    }
   ],
   "source": [
    "x.info()"
   ]
  },
  {
   "cell_type": "code",
   "execution_count": 56,
   "metadata": {},
   "outputs": [],
   "source": [
    "X.POSSEHIR = X.POSSEHIR.astype('category').cat.codes\n",
    "X.GeneralDate = X.GeneralDate.astype('category').cat.codes\n"
   ]
  },
  {
   "cell_type": "code",
   "execution_count": 57,
   "metadata": {},
   "outputs": [
    {
     "data": {
      "text/html": [
       "<div>\n",
       "<style scoped>\n",
       "    .dataframe tbody tr th:only-of-type {\n",
       "        vertical-align: middle;\n",
       "    }\n",
       "\n",
       "    .dataframe tbody tr th {\n",
       "        vertical-align: top;\n",
       "    }\n",
       "\n",
       "    .dataframe thead th {\n",
       "        text-align: right;\n",
       "    }\n",
       "</style>\n",
       "<table border=\"1\" class=\"dataframe\">\n",
       "  <thead>\n",
       "    <tr style=\"text-align: right;\">\n",
       "      <th></th>\n",
       "      <th>TOPLAMSAAT</th>\n",
       "      <th>SORUNSAYISINET</th>\n",
       "      <th>PortErrorCount</th>\n",
       "      <th>LostCarrierCount</th>\n",
       "      <th>GecenAyPortErrorSayisi</th>\n",
       "      <th>GecmisFark</th>\n",
       "      <th>Atlak</th>\n",
       "      <th>POSSEHIR</th>\n",
       "      <th>GeneralDate</th>\n",
       "    </tr>\n",
       "  </thead>\n",
       "  <tbody>\n",
       "    <tr>\n",
       "      <th>0</th>\n",
       "      <td>22</td>\n",
       "      <td>1</td>\n",
       "      <td>0</td>\n",
       "      <td>0</td>\n",
       "      <td>0</td>\n",
       "      <td>0</td>\n",
       "      <td>0</td>\n",
       "      <td>6</td>\n",
       "      <td>0</td>\n",
       "    </tr>\n",
       "    <tr>\n",
       "      <th>1</th>\n",
       "      <td>22</td>\n",
       "      <td>1</td>\n",
       "      <td>0</td>\n",
       "      <td>0</td>\n",
       "      <td>0</td>\n",
       "      <td>0</td>\n",
       "      <td>0</td>\n",
       "      <td>6</td>\n",
       "      <td>0</td>\n",
       "    </tr>\n",
       "    <tr>\n",
       "      <th>2</th>\n",
       "      <td>46</td>\n",
       "      <td>3</td>\n",
       "      <td>1</td>\n",
       "      <td>0</td>\n",
       "      <td>0</td>\n",
       "      <td>1</td>\n",
       "      <td>0</td>\n",
       "      <td>6</td>\n",
       "      <td>1</td>\n",
       "    </tr>\n",
       "    <tr>\n",
       "      <th>3</th>\n",
       "      <td>46</td>\n",
       "      <td>3</td>\n",
       "      <td>1</td>\n",
       "      <td>0</td>\n",
       "      <td>0</td>\n",
       "      <td>1</td>\n",
       "      <td>0</td>\n",
       "      <td>6</td>\n",
       "      <td>1</td>\n",
       "    </tr>\n",
       "    <tr>\n",
       "      <th>4</th>\n",
       "      <td>50</td>\n",
       "      <td>3</td>\n",
       "      <td>1</td>\n",
       "      <td>0</td>\n",
       "      <td>0</td>\n",
       "      <td>1</td>\n",
       "      <td>0</td>\n",
       "      <td>6</td>\n",
       "      <td>2</td>\n",
       "    </tr>\n",
       "    <tr>\n",
       "      <th>5</th>\n",
       "      <td>50</td>\n",
       "      <td>3</td>\n",
       "      <td>1</td>\n",
       "      <td>0</td>\n",
       "      <td>0</td>\n",
       "      <td>1</td>\n",
       "      <td>0</td>\n",
       "      <td>6</td>\n",
       "      <td>2</td>\n",
       "    </tr>\n",
       "    <tr>\n",
       "      <th>6</th>\n",
       "      <td>49</td>\n",
       "      <td>2</td>\n",
       "      <td>0</td>\n",
       "      <td>0</td>\n",
       "      <td>0</td>\n",
       "      <td>0</td>\n",
       "      <td>0</td>\n",
       "      <td>6</td>\n",
       "      <td>3</td>\n",
       "    </tr>\n",
       "    <tr>\n",
       "      <th>7</th>\n",
       "      <td>49</td>\n",
       "      <td>2</td>\n",
       "      <td>0</td>\n",
       "      <td>0</td>\n",
       "      <td>0</td>\n",
       "      <td>0</td>\n",
       "      <td>0</td>\n",
       "      <td>6</td>\n",
       "      <td>3</td>\n",
       "    </tr>\n",
       "    <tr>\n",
       "      <th>8</th>\n",
       "      <td>45</td>\n",
       "      <td>2</td>\n",
       "      <td>0</td>\n",
       "      <td>0</td>\n",
       "      <td>0</td>\n",
       "      <td>0</td>\n",
       "      <td>0</td>\n",
       "      <td>6</td>\n",
       "      <td>4</td>\n",
       "    </tr>\n",
       "    <tr>\n",
       "      <th>9</th>\n",
       "      <td>45</td>\n",
       "      <td>2</td>\n",
       "      <td>0</td>\n",
       "      <td>0</td>\n",
       "      <td>0</td>\n",
       "      <td>0</td>\n",
       "      <td>0</td>\n",
       "      <td>6</td>\n",
       "      <td>4</td>\n",
       "    </tr>\n",
       "  </tbody>\n",
       "</table>\n",
       "</div>"
      ],
      "text/plain": [
       "   TOPLAMSAAT  SORUNSAYISINET  PortErrorCount  LostCarrierCount  \\\n",
       "0          22               1               0                 0   \n",
       "1          22               1               0                 0   \n",
       "2          46               3               1                 0   \n",
       "3          46               3               1                 0   \n",
       "4          50               3               1                 0   \n",
       "5          50               3               1                 0   \n",
       "6          49               2               0                 0   \n",
       "7          49               2               0                 0   \n",
       "8          45               2               0                 0   \n",
       "9          45               2               0                 0   \n",
       "\n",
       "   GecenAyPortErrorSayisi  GecmisFark  Atlak  POSSEHIR  GeneralDate  \n",
       "0                       0           0      0         6            0  \n",
       "1                       0           0      0         6            0  \n",
       "2                       0           1      0         6            1  \n",
       "3                       0           1      0         6            1  \n",
       "4                       0           1      0         6            2  \n",
       "5                       0           1      0         6            2  \n",
       "6                       0           0      0         6            3  \n",
       "7                       0           0      0         6            3  \n",
       "8                       0           0      0         6            4  \n",
       "9                       0           0      0         6            4  "
      ]
     },
     "execution_count": 57,
     "metadata": {},
     "output_type": "execute_result"
    }
   ],
   "source": [
    "X.head(10)"
   ]
  },
  {
   "cell_type": "code",
   "execution_count": 64,
   "metadata": {},
   "outputs": [],
   "source": [
    "from sklearn.model_selection import train_test_split\n",
    "\n",
    "X_train, X_test, Y_train, Y_test = train_test_split(X, Y, train_size=0.70, random_state=1)"
   ]
  },
  {
   "cell_type": "code",
   "execution_count": 65,
   "metadata": {},
   "outputs": [
    {
     "name": "stdout",
     "output_type": "stream",
     "text": [
      "(4834456, 9)\n",
      "(4834456,)\n"
     ]
    }
   ],
   "source": [
    "print(X.shape)\n",
    "print(Y.shape)"
   ]
  },
  {
   "cell_type": "code",
   "execution_count": 66,
   "metadata": {},
   "outputs": [],
   "source": [
    "from sklearn import tree\n",
    "model = tree.DecisionTreeClassifier(max_leaf_nodes=10, random_state=0)\n",
    "model = model.fit(X_train, Y_train)\n"
   ]
  },
  {
   "cell_type": "code",
   "execution_count": 67,
   "metadata": {},
   "outputs": [],
   "source": [
    "y_predicted = model.predict(X_test)"
   ]
  },
  {
   "cell_type": "code",
   "execution_count": 68,
   "metadata": {},
   "outputs": [
    {
     "data": {
      "text/plain": [
       "99.96538735480098"
      ]
     },
     "execution_count": 68,
     "metadata": {},
     "output_type": "execute_result"
    }
   ],
   "source": [
    "from sklearn.metrics import accuracy_score, confusion_matrix\n",
    "\n",
    "accuracy_score(Y_test,y_predicted)*100"
   ]
  },
  {
   "cell_type": "code",
   "execution_count": 69,
   "metadata": {},
   "outputs": [
    {
     "data": {
      "text/plain": [
       "array([[1449834,       3],\n",
       "       [    499,       1]])"
      ]
     },
     "execution_count": 69,
     "metadata": {},
     "output_type": "execute_result"
    }
   ],
   "source": [
    "confusion_matrix(Y_test, y_predicted)"
   ]
  }
 ],
 "metadata": {
  "kernelspec": {
   "display_name": "Python 3",
   "language": "python",
   "name": "python3"
  },
  "language_info": {
   "codemirror_mode": {
    "name": "ipython",
    "version": 3
   },
   "file_extension": ".py",
   "mimetype": "text/x-python",
   "name": "python",
   "nbconvert_exporter": "python",
   "pygments_lexer": "ipython3",
   "version": "3.8.5"
  }
 },
 "nbformat": 4,
 "nbformat_minor": 4
}
